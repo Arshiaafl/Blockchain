{
 "cells": [
  {
   "cell_type": "code",
   "execution_count": 1,
   "id": "fd3c06dc",
   "metadata": {},
   "outputs": [],
   "source": [
    "import numpy as np\n",
    "import hashlib"
   ]
  },
  {
   "cell_type": "code",
   "execution_count": 2,
   "id": "a7d2d0eb",
   "metadata": {},
   "outputs": [],
   "source": [
    "class Block:\n",
    "    # Creating initials for the block\n",
    "    def __init__(self, data, prev_hash):\n",
    "        # This line accepts data\n",
    "        self.data = data\n",
    "        # We also need the previous hash, if this is our first data, the previous hash belongs to the genesis block\n",
    "        self.prev_hash = prev_hash\n",
    "        # We also might need to have access to the hash itself, so here it is\n",
    "        self.hash = self.calc_hash()\n",
    "        \n",
    "    def calc_hash(self):\n",
    "        # This function simply calculates hash\n",
    "        # Here, we are using the sha256, it works with bin numbers\n",
    "        sha = hashlib.sha256()\n",
    "        # We assume that the data are in string format, so we encode them to bin numbers\n",
    "        sha.update(self.data.encode('utf-8'))\n",
    "        # Returns the hash\n",
    "        return sha.hexdigest()\n",
    "    \n",
    "class Blockchain:\n",
    "    # Creating initials for our blockchain\n",
    "    def __init__(self):\n",
    "        # So, we need to chain the blocks together, thats why we need a list here. Keep it in mind that the first block is called the genesis block\n",
    "        self.chain = [self.calc_genesis_block()]\n",
    "    \n",
    "    def calc_genesis_block(self):\n",
    "        # As we assumed that the data are in string format, the first block is given to the Block class and the prev hash, as there are no previous hash yet, is 0\n",
    "        return Block(\"Genesis Block\", \"0\")\n",
    "    \n",
    "    def add_block(self, data):\n",
    "        # Now we want to add blocks to our block chain\n",
    "        # The last block in our chain is the previous block, thats why we use -1 here\n",
    "        prev_block = self.chain[-1]\n",
    "        # For the new block, we need to give data and prev hash to our Block class\n",
    "        new_block = Block(data, prev_block.hash)\n",
    "        # To add it to our chain\n",
    "        self.chain.append(new_block)"
   ]
  },
  {
   "cell_type": "code",
   "execution_count": 3,
   "id": "03f8d2e5",
   "metadata": {},
   "outputs": [],
   "source": [
    "blockchain = Blockchain()"
   ]
  },
  {
   "cell_type": "code",
   "execution_count": 4,
   "id": "4b3445d3",
   "metadata": {},
   "outputs": [
    {
     "name": "stdout",
     "output_type": "stream",
     "text": [
      "Blockchain: \n",
      "\n",
      "Data:  Genesis Block\n",
      "Hash:  89eb0ac031a63d2421cd05a2fbe41f3ea35f5c3712ca839cbf6b85c4ee07b7a3\n",
      "Previous Hash:  0\n",
      "\n",
      "Blockchain: \n",
      "\n",
      "Data:  First Block\n",
      "Hash:  541963a34346a1880a17157517a707e582d79fb8cfb7472074be88d93aabc88e\n",
      "Previous Hash:  89eb0ac031a63d2421cd05a2fbe41f3ea35f5c3712ca839cbf6b85c4ee07b7a3\n",
      "\n",
      "Blockchain: \n",
      "\n",
      "Data:  Second Block\n",
      "Hash:  50c9991f8736d9385422d8bb4f863708803184616b3d541058a1f3fc62c638fc\n",
      "Previous Hash:  541963a34346a1880a17157517a707e582d79fb8cfb7472074be88d93aabc88e\n",
      "\n",
      "Blockchain: \n",
      "\n",
      "Data:  Third Block\n",
      "Hash:  60581ee0a808db3fc0b36f7325afb9b6f3cfae4f49d4bf90689d7b0d47956b1b\n",
      "Previous Hash:  50c9991f8736d9385422d8bb4f863708803184616b3d541058a1f3fc62c638fc\n",
      "\n"
     ]
    }
   ],
   "source": [
    "# Now we want to pass data to our blockchain\n",
    "blockchain.add_block('First Block')\n",
    "blockchain.add_block('Second Block')\n",
    "blockchain.add_block('Third Block')\n",
    "\n",
    "# Just to show the blocks and hashes\n",
    "for block in blockchain.chain:\n",
    "    print('Blockchain: ')\n",
    "    print('')\n",
    "    print('Data: ', block.data)\n",
    "    print('Hash: ', block.hash)\n",
    "    print('Previous Hash: ', block.prev_hash)\n",
    "    print('')"
   ]
  },
  {
   "cell_type": "code",
   "execution_count": null,
   "id": "3d2fdf36",
   "metadata": {},
   "outputs": [],
   "source": []
  }
 ],
 "metadata": {
  "kernelspec": {
   "display_name": "Python 3 (ipykernel)",
   "language": "python",
   "name": "python3"
  },
  "language_info": {
   "codemirror_mode": {
    "name": "ipython",
    "version": 3
   },
   "file_extension": ".py",
   "mimetype": "text/x-python",
   "name": "python",
   "nbconvert_exporter": "python",
   "pygments_lexer": "ipython3",
   "version": "3.9.13"
  }
 },
 "nbformat": 4,
 "nbformat_minor": 5
}
